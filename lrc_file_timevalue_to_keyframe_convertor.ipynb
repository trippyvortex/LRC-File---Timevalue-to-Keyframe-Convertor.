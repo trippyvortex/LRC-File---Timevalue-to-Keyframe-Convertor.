{
  "nbformat": 4,
  "nbformat_minor": 0,
  "metadata": {
    "colab": {
      "provenance": [],
      "include_colab_link": true
    },
    "kernelspec": {
      "name": "python3",
      "display_name": "Python 3"
    },
    "language_info": {
      "name": "python"
    },
    "widgets": {
      "application/vnd.jupyter.widget-state+json": {
        "543c72c03d244886a2c655f0c9f2bf4a": {
          "model_module": "@jupyter-widgets/controls",
          "model_name": "ButtonModel",
          "model_module_version": "1.5.0",
          "state": {
            "_dom_classes": [],
            "_model_module": "@jupyter-widgets/controls",
            "_model_module_version": "1.5.0",
            "_model_name": "ButtonModel",
            "_view_count": null,
            "_view_module": "@jupyter-widgets/controls",
            "_view_module_version": "1.5.0",
            "_view_name": "ButtonView",
            "button_style": "",
            "description": "Copy to Clipboard",
            "disabled": false,
            "icon": "",
            "layout": "IPY_MODEL_53ec368692ca4032a8eda04fab3c8783",
            "style": "IPY_MODEL_e9c72a509b9a4ce98559234ae13796c4",
            "tooltip": ""
          }
        },
        "53ec368692ca4032a8eda04fab3c8783": {
          "model_module": "@jupyter-widgets/base",
          "model_name": "LayoutModel",
          "model_module_version": "1.2.0",
          "state": {
            "_model_module": "@jupyter-widgets/base",
            "_model_module_version": "1.2.0",
            "_model_name": "LayoutModel",
            "_view_count": null,
            "_view_module": "@jupyter-widgets/base",
            "_view_module_version": "1.2.0",
            "_view_name": "LayoutView",
            "align_content": null,
            "align_items": null,
            "align_self": null,
            "border": null,
            "bottom": null,
            "display": null,
            "flex": null,
            "flex_flow": null,
            "grid_area": null,
            "grid_auto_columns": null,
            "grid_auto_flow": null,
            "grid_auto_rows": null,
            "grid_column": null,
            "grid_gap": null,
            "grid_row": null,
            "grid_template_areas": null,
            "grid_template_columns": null,
            "grid_template_rows": null,
            "height": null,
            "justify_content": null,
            "justify_items": null,
            "left": null,
            "margin": null,
            "max_height": null,
            "max_width": null,
            "min_height": null,
            "min_width": null,
            "object_fit": null,
            "object_position": null,
            "order": null,
            "overflow": null,
            "overflow_x": null,
            "overflow_y": null,
            "padding": null,
            "right": null,
            "top": null,
            "visibility": null,
            "width": null
          }
        },
        "e9c72a509b9a4ce98559234ae13796c4": {
          "model_module": "@jupyter-widgets/controls",
          "model_name": "ButtonStyleModel",
          "model_module_version": "1.5.0",
          "state": {
            "_model_module": "@jupyter-widgets/controls",
            "_model_module_version": "1.5.0",
            "_model_name": "ButtonStyleModel",
            "_view_count": null,
            "_view_module": "@jupyter-widgets/base",
            "_view_module_version": "1.2.0",
            "_view_name": "StyleView",
            "button_color": null,
            "font_weight": ""
          }
        },
        "b382cb9b55f1435b8797e525793d0bfd": {
          "model_module": "@jupyter-widgets/output",
          "model_name": "OutputModel",
          "model_module_version": "1.0.0",
          "state": {
            "_dom_classes": [],
            "_model_module": "@jupyter-widgets/output",
            "_model_module_version": "1.0.0",
            "_model_name": "OutputModel",
            "_view_count": null,
            "_view_module": "@jupyter-widgets/output",
            "_view_module_version": "1.0.0",
            "_view_name": "OutputView",
            "layout": "IPY_MODEL_50dbb53b676f478da9987ac9021d11b0",
            "msg_id": "",
            "outputs": []
          }
        },
        "50dbb53b676f478da9987ac9021d11b0": {
          "model_module": "@jupyter-widgets/base",
          "model_name": "LayoutModel",
          "model_module_version": "1.2.0",
          "state": {
            "_model_module": "@jupyter-widgets/base",
            "_model_module_version": "1.2.0",
            "_model_name": "LayoutModel",
            "_view_count": null,
            "_view_module": "@jupyter-widgets/base",
            "_view_module_version": "1.2.0",
            "_view_name": "LayoutView",
            "align_content": null,
            "align_items": null,
            "align_self": null,
            "border": null,
            "bottom": null,
            "display": null,
            "flex": null,
            "flex_flow": null,
            "grid_area": null,
            "grid_auto_columns": null,
            "grid_auto_flow": null,
            "grid_auto_rows": null,
            "grid_column": null,
            "grid_gap": null,
            "grid_row": null,
            "grid_template_areas": null,
            "grid_template_columns": null,
            "grid_template_rows": null,
            "height": null,
            "justify_content": null,
            "justify_items": null,
            "left": null,
            "margin": null,
            "max_height": null,
            "max_width": null,
            "min_height": null,
            "min_width": null,
            "object_fit": null,
            "object_position": null,
            "order": null,
            "overflow": null,
            "overflow_x": null,
            "overflow_y": null,
            "padding": null,
            "right": null,
            "top": null,
            "visibility": null,
            "width": null
          }
        }
      }
    }
  },
  "cells": [
    {
      "cell_type": "markdown",
      "metadata": {
        "id": "view-in-github",
        "colab_type": "text"
      },
      "source": [
        "<a href=\"https://colab.research.google.com/github/trippyvortex/LRC-File---Timevalue-to-Keyframe-Convertor./blob/main/lrc_file_timevalue_to_keyframe_convertor.ipynb\" target=\"_parent\"><img src=\"https://colab.research.google.com/assets/colab-badge.svg\" alt=\"Open In Colab\"/></a>"
      ]
    },
    {
      "cell_type": "code",
      "source": [
        "# @title #LRC FILE TIMEVALE CONVERTED KEYFRAME\n",
        "import re\n",
        "\n",
        "def lrc_to_keyframes_with_lyrics(lrc_file, fps):\n",
        "    keyframes_lyrics = {}\n",
        "    keyframes_only = []\n",
        "    with open(lrc_file, 'r') as file:\n",
        "        lines = file.readlines()\n",
        "        for line in lines:\n",
        "            match = re.search(r'\\[(\\d{2}):(\\d{2})\\.(\\d{2})\\](.*)', line)\n",
        "            if match:\n",
        "                minutes = int(match.group(1))\n",
        "                seconds = int(match.group(2))\n",
        "                milliseconds = int(match.group(3))\n",
        "                total_seconds = minutes * 60 + seconds + milliseconds / 1000\n",
        "                keyframe = int(total_seconds * fps)\n",
        "                lyric = match.group(4).strip()\n",
        "                keyframes_lyrics[keyframe] = lyric\n",
        "                keyframes_only.append(keyframe)\n",
        "    return keyframes_lyrics, keyframes_only\n",
        "\n",
        "# Example usage\n",
        "lrc_file = \"\" #@param {type:\"string\"}\n",
        "fps = \"24\"  #@param {type:\"string\"}\n",
        "keyframes_lyrics, keyframes_only = lrc_to_keyframes_with_lyrics(lrc_file, fps)\n",
        "\n",
        "for keyframe, lyric in keyframes_lyrics.items():\n",
        "    print(f\"{keyframe}: \\\"{lyric}\\\",\")\n",
        "\n",
        "print(\"Keyframes only:\", \", \".join(map(str, keyframes_only)))\n"
      ],
      "metadata": {
        "id": "Zhe6REvIQjdY",
        "colab": {
          "base_uri": "https://localhost:8080/"
        },
        "outputId": "e13d4adb-dae4-42f7-eee0-3e9bc7903ae3"
      },
      "execution_count": null,
      "outputs": [
        {
          "output_type": "stream",
          "name": "stdout",
          "text": [
            "96: \"Ayy, ayy, ayy, ayy (Ooh)\",\n",
            "216: \"Ooh, ooh, ooh, ooh (Ooh)\",\n",
            "361: \"Ayy, ayy\",\n",
            "457: \"Ooh, ooh, ooh, ooh\",\n",
            "625: \"Needless to say, I keep in check\",\n",
            "696: \"She was a bad-bad, nevertheless (Yeah)\",\n",
            "768: \"Callin' it quits now, baby, I'm a wreck (Wreck)\",\n",
            "817: \"Crash at my place, baby, you're a wreck (Wreck)\",\n",
            "888: \"Needless to say, I'm keeping in check\",\n",
            "938: \"She was a bad-bad, nevertheless\",\n",
            "1009: \"Callin' it quits now, baby, I'm a wreck\",\n",
            "1080: \"Crash at my place, baby, you're a wreck\",\n",
            "1130: \"Thinkin' in a bad way, losin' your grip\",\n",
            "1201: \"Screamin' at my face, baby, don't trip\",\n",
            "1272: \"Someone took a big L, don't know how that felt\",\n",
            "1322: \"Lookin' at you sideways, party on tilt\",\n",
            "1393: \"Ooh-ooh, some things you just can't refuse\",\n",
            "1513: \"She wanna ride me like a cruise and I'm not tryna lose\",\n",
            "1680: \"Then you're left in the dust, unless I stuck by ya\",\n",
            "1802: \"You're a sunflower, I think your love would be too much\",\n",
            "1944: \"Or you'll be left in the dust, unless I stuck by ya\",\n",
            "2065: \"You're the sunflower, you're the sunflower\",\n",
            "2162: \"Every time I'm leavin' on ya (Ooh)\",\n",
            "2233: \"You don't make it easy, no (No, no)\",\n",
            "2304: \"Wish I could be there for ya (Ooh)\",\n",
            "2376: \"Give me a reason to, oh (Oh)\",\n",
            "2426: \"Every time I'm walkin' out (Oh)\",\n",
            "2496: \"I can hear you tellin' me to turn around (Oh, oh)\",\n",
            "2545: \"Fightin' for my trust and you won't back down (No)\",\n",
            "2616: \"Even if we gotta risk it all right now, oh (Now)\",\n",
            "2688: \"I know you're scared of the unknown (Known)\",\n",
            "2738: \"You don't wanna be alone (Alone)\",\n",
            "2809: \"I know I always come and go (And go)\",\n",
            "2881: \"But it's out of my control\",\n",
            "2953: \"And you'll be left in the dust, unless I stuck by ya\",\n",
            "3096: \"You're the sunflower, I think your love would be too much\",\n",
            "3217: \"Or you'll be left in the dust, unless I stuck by ya\",\n",
            "3337: \"You're the sunflower, you're the sunflower (Yeah)\",\n",
            "Keyframes only: 96, 216, 361, 457, 625, 696, 768, 817, 888, 938, 1009, 1080, 1130, 1201, 1272, 1322, 1393, 1513, 1680, 1802, 1944, 2065, 2162, 2233, 2304, 2376, 2426, 2496, 2545, 2616, 2688, 2738, 2809, 2881, 2953, 3096, 3217, 3337\n"
          ]
        }
      ]
    },
    {
      "cell_type": "code",
      "source": [
        "from IPython.display import display, HTML\n",
        "import ipywidgets as widgets\n",
        "\n",
        "# Define the input form using @markdown\n",
        "#@markdown Enter the list of frame numbers (comma-separated):\n",
        "frame_numbers_input = \"100, 20, 500\" #@param {type:\"string\"}\n",
        "#@markdown Enter the high strength value:\n",
        "high_strength = 0.75 #@param {type:\"number\"}\n",
        "#@markdown Enter the low strength value:\n",
        "low_strength = 0.4 #@param {type:\"number\"}\n",
        "\n",
        "# Convert the comma-separated string to a list of integers\n",
        "frame_numbers = list(map(int, frame_numbers_input.split(',')))\n",
        "\n",
        "def apply_pattern(frame_numbers, high_strength, low_strength):\n",
        "    pattern = []\n",
        "    frame_numbers.sort()  # Sorts the frame numbers\n",
        "    for num in frame_numbers:\n",
        "        pattern.extend([f\"{num - 1}:({high_strength})\", f\"{num}:({low_strength})\", f\"{num + 1}:({high_strength})\"])\n",
        "    return pattern\n",
        "\n",
        "# Generate the pattern\n",
        "pattern = apply_pattern(frame_numbers, high_strength, low_strength)\n",
        "\n",
        "# Convert the pattern to a string without apostrophes and separated by commas\n",
        "pattern_string = ', '.join(pattern)\n",
        "\n",
        "# Print the pattern string\n",
        "print(pattern_string)\n",
        "\n",
        "# Create a copy button\n",
        "button = widgets.Button(description=\"Copy to Clipboard\")\n",
        "output = widgets.Output()\n",
        "\n",
        "# Function to handle button click event\n",
        "def on_button_clicked(b):\n",
        "    with output:\n",
        "        display(HTML(\"<b>Pattern copied to clipboard!</b>\"))\n",
        "        # Copy pattern_string to clipboard\n",
        "        import pyperclip\n",
        "        pyperclip.copy(pattern_string)\n",
        "\n",
        "# Attach the function to the button click event\n",
        "button.on_click(on_button_clicked)\n",
        "\n",
        "# Display button and output\n",
        "display(button, output)\n",
        "\n"
      ],
      "metadata": {
        "colab": {
          "base_uri": "https://localhost:8080/",
          "height": 66,
          "referenced_widgets": [
            "543c72c03d244886a2c655f0c9f2bf4a",
            "53ec368692ca4032a8eda04fab3c8783",
            "e9c72a509b9a4ce98559234ae13796c4",
            "b382cb9b55f1435b8797e525793d0bfd",
            "50dbb53b676f478da9987ac9021d11b0"
          ]
        },
        "id": "5QaTMd3UG88Z",
        "outputId": "7006017e-7813-4fa6-8aef-6c8c8c7cb318"
      },
      "execution_count": null,
      "outputs": [
        {
          "output_type": "stream",
          "name": "stdout",
          "text": [
            "19:(0.75), 20:(0.4), 21:(0.75), 99:(0.75), 100:(0.4), 101:(0.75), 499:(0.75), 500:(0.4), 501:(0.75)\n"
          ]
        },
        {
          "output_type": "display_data",
          "data": {
            "text/plain": [
              "Button(description='Copy to Clipboard', style=ButtonStyle())"
            ],
            "application/vnd.jupyter.widget-view+json": {
              "version_major": 2,
              "version_minor": 0,
              "model_id": "543c72c03d244886a2c655f0c9f2bf4a"
            }
          },
          "metadata": {}
        },
        {
          "output_type": "display_data",
          "data": {
            "text/plain": [
              "Output()"
            ],
            "application/vnd.jupyter.widget-view+json": {
              "version_major": 2,
              "version_minor": 0,
              "model_id": "b382cb9b55f1435b8797e525793d0bfd"
            }
          },
          "metadata": {}
        }
      ]
    },
    {
      "cell_type": "code",
      "source": [
        "# Define the input form using @markdown\n",
        "#@markdown Enter the list of frame numbers. Can be in any order, will return them in proper numerical order. (comma-separated):\n",
        "frame_numbers_input = \"100, 20, 500\" #@param {type:\"string\"}\n",
        "#@markdown Enter the high strength value:\n",
        "high_strength = 0.75 #@param {type:\"number\"}\n",
        "#@markdown Enter the low strength value:\n",
        "low_strength = 0.4 #@param {type:\"number\"}\n",
        "\n",
        "# Convert the comma-separated string to a list of integers\n",
        "frame_numbers = list(map(int, frame_numbers_input.split(',')))\n",
        "\n",
        "def apply_pattern(frame_numbers, high_strength, low_strength):\n",
        "    pattern = []\n",
        "    # Sort the list of frame numbers\n",
        "    frame_numbers.sort()\n",
        "    for num in frame_numbers:\n",
        "        # Apply the pattern: high, low, high\n",
        "        pattern.extend([f\"{num - 1}:({high_strength})\", f\"{num}:({low_strength})\", f\"{num + 1}:({high_strength})\"])\n",
        "    return pattern\n",
        "\n",
        "# Generate the pattern\n",
        "pattern = apply_pattern(frame_numbers, high_strength, low_strength)\n",
        "\n",
        "# Convert the pattern to a string without apostrophes and separated by commas\n",
        "pattern_string = ', '.join(pattern)\n",
        "\n",
        "# Print the pattern string\n",
        "print(pattern_string)\n",
        "\n"
      ],
      "metadata": {
        "colab": {
          "base_uri": "https://localhost:8080/"
        },
        "id": "3oWLbUQzRzv3",
        "outputId": "79bb5cf9-64be-4def-b4be-68f8fd1f702f"
      },
      "execution_count": null,
      "outputs": [
        {
          "output_type": "stream",
          "name": "stdout",
          "text": [
            "19:(0.75), 20:(0.4), 21:(0.75), 99:(0.75), 100:(0.4), 101:(0.75), 499:(0.75), 500:(0.4), 501:(0.75)\n"
          ]
        }
      ]
    },
    {
      "cell_type": "code",
      "execution_count": null,
      "metadata": {
        "id": "ZrkNP8hK-bHI",
        "cellView": "form"
      },
      "outputs": [],
      "source": [
        "# @title Convert json data. I used it to take the generated parameters from parseq. It will remove all the formatting to make it notebook compatible\n",
        "import json\n",
        "\n",
        "def extract_frame_numbers(json_data):\n",
        "    # Load the JSON data into a Python dictionary\n",
        "    data = json.loads(json_data)\n",
        "\n",
        "    # Extract frame numbers from the 'clips' list in JSON\n",
        "    frame_numbers = []\n",
        "    for item in data['clips']:\n",
        "        frame_numbers.append(item['frame'])\n",
        "\n",
        "    return frame_numbers\n",
        "\n",
        "# Example JSON data as a string\n",
        "json_data = '''{\n",
        "  \"clips\": [\n",
        "    {\"frame\": 0, \"other_data\": \"example1\"},\n",
        "    {\"frame\": 119, \"other_data\": \"example2\"},\n",
        "    {\"frame\": 201, \"other_data\": \"example3\"},\n",
        "    {\"frame\": 220, \"other_data\": \"example4\"},\n",
        "    {\"frame\": 257, \"other_data\": \"example5\"}\n",
        "  ]\n",
        "}'''\n",
        "\n",
        "# Extract frame numbers using the function\n",
        "frame_numbers = extract_frame_numbers(json_data)\n",
        "\n",
        "# Print the extracted frame numbers\n",
        "print(frame_numbers)\n"
      ]
    },
    {
      "cell_type": "code",
      "source": [
        "# @title #COMBINATOR - COMBINES SETS OF KEYFRAME LISTS INTO SINGLE LIST\n",
        "# First set\n",
        "set1 = {60:(0.77), 61:(0.4), 62:(0.77), 121:(0.77), 122:(0.4), 123:(0.77)}#@param {type:\"string\"}\n",
        "\n",
        "# Second set\n",
        "set2 = {0:(0.77), 1:(0.2), 2:(0.77), 119:(0.77), 220:(0.77), 221:(0.2), 222:(0.77)}#@param {type:\"string\"}\n",
        "\n",
        "# Combine the two sets of keyframe strength values\n",
        "combined_set = {}\n",
        "\n",
        "# Add values from the first set\n",
        "combined_set.update(set1)\n",
        "\n",
        "# Add values from the second set, if the key doesn't already exist\n",
        "combined_set.update({key: value for key, value in set2.items() if key not in combined_set})\n",
        "\n",
        "# Print the combined set in the same format as input\n",
        "print(\"combined_set = {\")\n",
        "for key, value in sorted(combined_set.items()):\n",
        "    print(f\"    {key}: ({value}),\")\n",
        "print(\"}\")\n"
      ],
      "metadata": {
        "colab": {
          "base_uri": "https://localhost:8080/"
        },
        "id": "KbtrvC7-U7jD",
        "outputId": "5f068f75-0e13-4870-a55e-b96bc2cad431"
      },
      "execution_count": null,
      "outputs": [
        {
          "output_type": "stream",
          "name": "stdout",
          "text": [
            "combined_set = {\n",
            "    0: (0.77),\n",
            "    1: (0.2),\n",
            "    2: (0.77),\n",
            "    60: (0.77),\n",
            "    61: (0.4),\n",
            "    62: (0.77),\n",
            "    119: (0.77),\n",
            "    121: (0.77),\n",
            "    122: (0.4),\n",
            "    123: (0.77),\n",
            "    220: (0.77),\n",
            "    221: (0.2),\n",
            "    222: (0.77),\n",
            "}\n"
          ]
        }
      ]
    }
  ]
}